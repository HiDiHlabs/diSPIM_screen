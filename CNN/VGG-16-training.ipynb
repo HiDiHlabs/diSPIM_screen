{
 "cells": [
  {
   "cell_type": "markdown",
   "metadata": {},
   "source": [
    "# Training a convolutional neural network (based on the VGG-16 architecture) for the classification of mitotic phases\n",
    "\n",
    "In the following a VGG-16 network is trained on confocal data for the proper classification of mitotic phases. This network is then later on used to predict phases in light-sheet data. It can also be fine-trained on the light-sheet dataset as was done in the paper.\n",
    "\n",
    "This procedure of training a VGG-16 network on a confocal dataset indeed might not be necessary when the hSPIM dataset is fully annotated, quite large and not super noisy. In our case we tried directly on hSPIM data, but found better results upon training on a confocal dataset first.\n",
    "\n",
    "This notebook is thus just for exemplary usage and the model obtained was not used in the final paper.  "
   ]
  },
  {
   "cell_type": "code",
   "execution_count": 26,
   "metadata": {},
   "outputs": [],
   "source": [
    "import os \n",
    "import glob\n",
    "import matplotlib.pyplot as plt\n",
    "import numpy as np\n",
    "import tensorflow as tf\n",
    "sess = tf.Session(config=tf.ConfigProto(log_device_placement=True))\n",
    "\n",
    "from keras import backend as K\n",
    "K.set_session(sess)"
   ]
  },
  {
   "cell_type": "code",
   "execution_count": 3,
   "metadata": {},
   "outputs": [],
   "source": [
    "train_data_path = '/mnt/isilon/Group/Bjoern_Isilon/DL_Training_DataSet/Training_Data_hSPIM_for_DL/'"
   ]
  },
  {
   "cell_type": "markdown",
   "metadata": {},
   "source": [
    "### Read in data from the confocal training set"
   ]
  },
  {
   "cell_type": "code",
   "execution_count": 4,
   "metadata": {},
   "outputs": [],
   "source": [
    "mitosis_dict = {}\n",
    "\n",
    "dirs = [os.path.join(train_data_path, f) for f in os.listdir(train_data_path)]\n",
    "\n",
    "for dir_path in dirs:\n",
    "    if dir_path.split('/')[-1] in ['Interphase','Metaphase', 'Anaphase', 'Prophase']:\n",
    "        files = [os.path.join(dir_path, f) for f in os.listdir(dir_path) if '.tif' in f and os.path.isfile(os.path.join(dir_path, f))]\n",
    "        mitosis_dict[dir_path.split('/')[-1]] = files"
   ]
  },
  {
   "cell_type": "code",
   "execution_count": 5,
   "metadata": {},
   "outputs": [
    {
     "data": {
      "text/plain": [
       "['Interphase', 'Metaphase', 'Anaphase', 'Prophase']"
      ]
     },
     "execution_count": 5,
     "metadata": {},
     "output_type": "execute_result"
    }
   ],
   "source": [
    "list(mitosis_dict.keys())"
   ]
  },
  {
   "cell_type": "code",
   "execution_count": 8,
   "metadata": {},
   "outputs": [],
   "source": [
    "# comparison dataset for random forest\n",
    "ana = 366\n",
    "inter = 688\n",
    "meta = 354\n",
    "pro = 235\n",
    "\n",
    "mitosis_dict['Anaphase'] = np.random.choice(mitosis_dict['Anaphase'], ana)\n",
    "mitosis_dict['Interphase'] = np.random.choice(mitosis_dict['Interphase'], inter)\n",
    "mitosis_dict['Metaphase'] = np.random.choice(mitosis_dict['Metaphase'], meta)\n",
    "mitosis_dict['Prophase'] = np.random.choice(mitosis_dict['Prophase'], pro)"
   ]
  },
  {
   "cell_type": "code",
   "execution_count": 9,
   "metadata": {},
   "outputs": [
    {
     "name": "stdout",
     "output_type": "stream",
     "text": [
      "688\n",
      "354\n",
      "366\n",
      "235\n"
     ]
    }
   ],
   "source": [
    "for _ in list(mitosis_dict.keys()):\n",
    "    print(len(mitosis_dict[_]))"
   ]
  },
  {
   "cell_type": "code",
   "execution_count": 10,
   "metadata": {},
   "outputs": [],
   "source": [
    "import numpy as np\n",
    "import random\n",
    "from skimage import io, exposure, transform"
   ]
  },
  {
   "cell_type": "code",
   "execution_count": 11,
   "metadata": {},
   "outputs": [
    {
     "name": "stdout",
     "output_type": "stream",
     "text": [
      "Interphase\n",
      "Metaphase\n",
      "Anaphase\n",
      "Prophase\n"
     ]
    }
   ],
   "source": [
    "def open_image(image):\n",
    "    \n",
    "    return exposure.rescale_intensity(io.imread(image), out_range=(0, 255)).astype(dtype=np.uint8)\n",
    "    \n",
    "def pad_to_shape(image, size=(112, 112)):\n",
    "    \n",
    "    x, y = image.shape\n",
    "    x_ = size[0] - x\n",
    "    y_ = size[1] - y\n",
    "    if x_ % 2 == 0:\n",
    "        x1 = int(x_/2)\n",
    "        x2 = x1\n",
    "    else:\n",
    "        x1 = int(x_/2)\n",
    "        x2 = x1+1\n",
    "    \n",
    "    if y_ % 2 == 0:\n",
    "        y1 = int(y_/2)\n",
    "        y2 = y1\n",
    "    else:\n",
    "        y1 = int(y_/2)\n",
    "        y2 = y1+1\n",
    "        \n",
    "    image = np.pad(image, ((x1, x2), (y1, y2)), 'constant', constant_values=(0, 0))\n",
    "    return image\n",
    "\n",
    "def to_fixed_size_with_random_position(image, size=(112, 112)):\n",
    "    \n",
    "    \n",
    "    image = image - np.min(image)\n",
    "    \n",
    "    for x in range(image.shape[0]):\n",
    "        for y in range(image.shape[1]):\n",
    "            if image[x, y] < 60:\n",
    "                image[x, y] = np.random.randint(low=0, high=60, size=(1,))[0]\n",
    "    \n",
    "    image = image.astype(dtype=np.uint8)\n",
    "    if image.shape[0]>=size[0] or image.shape[1]>=size[1]:\n",
    "        image = transform.resize(image, (image.shape[0]//2, image.shape[1]//2))\n",
    "        image = exposure.rescale_intensity(image, out_range=(0, 255))\n",
    "        \n",
    "        \n",
    " \n",
    "    empty = np.random.uniform(low=0, high=60, size=size).astype(dtype=np.uint8)\n",
    "    i = empty.copy()\n",
    "    x, y = image.shape\n",
    "    x_ = size[0]-x\n",
    "    y_ = size[1]-y\n",
    "    \n",
    "    sample_x = np.random.randint(low=0, high=x_, size=(1,))[0]\n",
    "    sample_y = np.random.randint(low=0, high=y_, size=(1,))[0]\n",
    "    \n",
    "    i[sample_x:sample_x+x, sample_y:sample_y+y] = image\n",
    "    \n",
    "    return i\n",
    "\n",
    "def to_fixed_size_with_data_augmentation(image, size=(112, 112)):\n",
    "    \n",
    "    #angles = [0, 45, 90, 135, 180,225, 270, 315]\n",
    "    angles = [0]\n",
    "    empty = np.random.uniform(low=0, high=60, size=size).astype(dtype=np.uint8)\n",
    "    #empty = np.zeros(size).astype(dtype=np.uint8)\n",
    "    full = []\n",
    "    \n",
    "    width, height = image.shape\n",
    "    if width >= size[0]-1:\n",
    "        center_x = int(width/2)\n",
    "        image = image[center_x-int((size[0]-1)/2):center_x+int((size[0]-1)/2), :]\n",
    "      \n",
    "    if height >= size[1]-1:\n",
    "        center_y = int(height/2)\n",
    "        image = image[:, center_y-int((size[1]-1)/2):center_y+int((size[1]-1)/2)]\n",
    "       \n",
    "        \n",
    "    for angle in angles: \n",
    "            #image_n = transform.rotate(image, angle)\n",
    "            #image_n = exposure.rescale_intensity(image_n, out_range=(0, 255))\n",
    "            image_n = image\n",
    "            \n",
    "            # Here we define a cutoff value of 60, below everything is disregarded as noise. As we want to predict hSPIM data later one, the VGG-16 was found to perform better after applying this sort of random noise\n",
    "            for x in range(image_n.shape[0]):\n",
    "                for y in range(image_n.shape[1]):\n",
    "                    if image_n[x, y] < 60:\n",
    "                        image_n[x, y] = np.random.randint(low=0, high=60, size=(1,))[0]\n",
    "            \n",
    "            image_n = image_n.astype(dtype=np.uint8)\n",
    "       \n",
    "            i = empty.copy()\n",
    "            \n",
    "            \n",
    "            x_ = size[0]-image_n.shape[0]\n",
    "            y_ = size[1]-image_n.shape[1]\n",
    "          \n",
    "            \n",
    "            sample_x = np.random.randint(low=0, high=x_, size=(1,))[0]\n",
    "            sample_y = np.random.randint(low=0, high=y_, size=(1,))[0]\n",
    "\n",
    "          \n",
    "            i[sample_x:sample_x+image_n.shape[0], sample_y:sample_y+image_n.shape[1]] = image_n\n",
    "            full.append(i)\n",
    "    \n",
    "    return np.stack(full, axis=0)/255\n",
    "    \n",
    "    \n",
    "    \n",
    "images = []\n",
    "labels = []\n",
    "for keys in mitosis_dict.keys():\n",
    "    print(keys)\n",
    "    \n",
    "    for image in mitosis_dict[keys]:\n",
    "       \n",
    "        im = open_image(image)\n",
    "        im = to_fixed_size_with_data_augmentation(im)\n",
    "        images.append(im)\n",
    "        #label = []\n",
    "        #for _ in range(8):\n",
    "        #label.append(list(mitosis_dict.keys()).index(keys))\n",
    "        #labels.append(np.stack(label))\n",
    "        labels.append(list(mitosis_dict.keys()).index(keys))\n",
    "    "
   ]
  },
  {
   "cell_type": "code",
   "execution_count": null,
   "metadata": {},
   "outputs": [],
   "source": []
  },
  {
   "cell_type": "code",
   "execution_count": 12,
   "metadata": {},
   "outputs": [],
   "source": [
    "from keras.utils.np_utils import to_categorical   \n",
    "\n",
    "labels = to_categorical(labels, num_classes=len(list(mitosis_dict.keys())))\n",
    "images = np.stack(images, axis=0)"
   ]
  },
  {
   "cell_type": "code",
   "execution_count": 13,
   "metadata": {},
   "outputs": [
    {
     "name": "stdout",
     "output_type": "stream",
     "text": [
      "(1643, 1, 112, 112) (1643, 4)\n"
     ]
    }
   ],
   "source": [
    "print(images.shape, labels.shape)"
   ]
  },
  {
   "cell_type": "code",
   "execution_count": 14,
   "metadata": {},
   "outputs": [],
   "source": [
    "images_dataset = images\n",
    "labels_dataset = labels"
   ]
  },
  {
   "cell_type": "code",
   "execution_count": 17,
   "metadata": {},
   "outputs": [],
   "source": [
    "images_dataset = np.reshape(images, (images.shape[0]*images.shape[1], 1, images.shape[2], images.shape[3]))\n",
    "labels_dataset = np.reshape(labels, (labels.shape[0]*labels.shape[1], labels.shape[2]))"
   ]
  },
  {
   "cell_type": "code",
   "execution_count": 14,
   "metadata": {},
   "outputs": [],
   "source": [
    "images_dataset = np.concatenate((images_dataset, np.flip(images_dataset, 0)), axis=0)\n",
    "labels_dataset = np.concatenate((labels_dataset, labels_dataset), axis=0)"
   ]
  },
  {
   "cell_type": "code",
   "execution_count": 15,
   "metadata": {},
   "outputs": [
    {
     "data": {
      "text/plain": [
       "((1643, 1, 112, 112), (1643, 4))"
      ]
     },
     "execution_count": 15,
     "metadata": {},
     "output_type": "execute_result"
    }
   ],
   "source": [
    "images_dataset.shape, labels_dataset.shape"
   ]
  },
  {
   "cell_type": "code",
   "execution_count": null,
   "metadata": {},
   "outputs": [],
   "source": []
  },
  {
   "cell_type": "code",
   "execution_count": 16,
   "metadata": {},
   "outputs": [],
   "source": [
    "from sklearn.model_selection import train_test_split\n",
    "from sklearn.preprocessing import normalize\n",
    "from skimage import exposure\n",
    "\n",
    "def unison_shuffled_copies(a, b):\n",
    "    assert len(a) == len(b)\n",
    "    np.random.seed(123)\n",
    "    p = np.random.permutation(len(a))\n",
    "    return a[p], b[p]\n",
    "\n",
    "x, y = unison_shuffled_copies(images_dataset, labels_dataset)\n",
    "\n",
    "x_train, x_test, y_train, y_test = train_test_split(x, y, test_size=0.1, random_state=42)\n"
   ]
  },
  {
   "cell_type": "code",
   "execution_count": 17,
   "metadata": {},
   "outputs": [
    {
     "name": "stdout",
     "output_type": "stream",
     "text": [
      "[[0.01960784 0.14117647 0.10196078 ... 0.20784314 0.10196078 0.0745098 ]\n",
      " [0.19215686 0.05098039 0.18039216 ... 0.12156863 0.19215686 0.00392157]\n",
      " [0.05098039 0.11764706 0.23137255 ... 0.21960784 0.05490196 0.13333333]\n",
      " ...\n",
      " [0.05490196 0.18039216 0.2        ... 0.19607843 0.15686275 0.00784314]\n",
      " [0.15294118 0.01176471 0.21568627 ... 0.00784314 0.15294118 0.02745098]\n",
      " [0.         0.03921569 0.21568627 ... 0.16470588 0.22745098 0.03529412]]\n"
     ]
    }
   ],
   "source": [
    "print(x_train[10,0,:,:])"
   ]
  },
  {
   "cell_type": "code",
   "execution_count": 18,
   "metadata": {},
   "outputs": [
    {
     "name": "stdout",
     "output_type": "stream",
     "text": [
      "Prophase\n"
     ]
    },
    {
     "name": "stderr",
     "output_type": "stream",
     "text": [
      "/home/titanv/miniconda3/envs/tf/lib/python3.6/site-packages/skimage/io/_plugins/matplotlib_plugin.py:51: FutureWarning: Conversion of the second argument of issubdtype from `float` to `np.floating` is deprecated. In future, it will be treated as `np.float64 == np.dtype(float).type`.\n",
      "  out_of_range_float = (np.issubdtype(image.dtype, np.float) and\n",
      "/home/titanv/miniconda3/envs/tf/lib/python3.6/site-packages/matplotlib/axes/_base.py:1400: MatplotlibDeprecationWarning: The 'box-forced' keyword argument is deprecated since 2.2.\n",
      "  \" since 2.2.\", cbook.mplDeprecation)\n"
     ]
    },
    {
     "data": {
      "text/plain": [
       "<matplotlib.image.AxesImage at 0x7f5bf014c390>"
      ]
     },
     "execution_count": 18,
     "metadata": {},
     "output_type": "execute_result"
    },
    {
     "data": {
      "image/png": "[encoded data removed]",
      "text/plain": [
       "<Figure size 432x288 with 1 Axes>"
      ]
     },
     "metadata": {},
     "output_type": "display_data"
    }
   ],
   "source": [
    "index_ = 10\n",
    "print(list(mitosis_dict.keys())[np.argmax(y_train[index_])])\n",
    "io.imshow(x_train[index_,0,:,:])"
   ]
  },
  {
   "cell_type": "code",
   "execution_count": 19,
   "metadata": {},
   "outputs": [
    {
     "name": "stdout",
     "output_type": "stream",
     "text": [
      "(1478, 1, 112, 112) (165, 1, 112, 112) (1478, 4) (165, 4)\n"
     ]
    }
   ],
   "source": [
    "print(x_train.shape, x_test.shape, y_train.shape, y_test.shape)"
   ]
  },
  {
   "cell_type": "code",
   "execution_count": 20,
   "metadata": {},
   "outputs": [
    {
     "name": "stderr",
     "output_type": "stream",
     "text": [
      "/home/titanv/miniconda3/envs/tf/lib/python3.6/site-packages/ipykernel_launcher.py:91: UserWarning: Update your `Conv2D` call to the Keras 2 API: `Conv2D(64, (3, 3), activation=\"relu\", name=\"conv1_1\")`\n",
      "/home/titanv/miniconda3/envs/tf/lib/python3.6/site-packages/ipykernel_launcher.py:93: UserWarning: Update your `Conv2D` call to the Keras 2 API: `Conv2D(64, (3, 3), activation=\"relu\", name=\"conv1_2\")`\n",
      "/home/titanv/miniconda3/envs/tf/lib/python3.6/site-packages/ipykernel_launcher.py:97: UserWarning: Update your `Conv2D` call to the Keras 2 API: `Conv2D(128, (3, 3), activation=\"relu\", name=\"conv2_1\")`\n",
      "/home/titanv/miniconda3/envs/tf/lib/python3.6/site-packages/ipykernel_launcher.py:99: UserWarning: Update your `Conv2D` call to the Keras 2 API: `Conv2D(128, (3, 3), activation=\"relu\", name=\"conv2_2\")`\n",
      "/home/titanv/miniconda3/envs/tf/lib/python3.6/site-packages/ipykernel_launcher.py:103: UserWarning: Update your `Conv2D` call to the Keras 2 API: `Conv2D(256, (3, 3), activation=\"relu\", name=\"conv3_1\")`\n",
      "/home/titanv/miniconda3/envs/tf/lib/python3.6/site-packages/ipykernel_launcher.py:105: UserWarning: Update your `Conv2D` call to the Keras 2 API: `Conv2D(256, (3, 3), activation=\"relu\", name=\"conv3_2\")`\n",
      "/home/titanv/miniconda3/envs/tf/lib/python3.6/site-packages/ipykernel_launcher.py:107: UserWarning: Update your `Conv2D` call to the Keras 2 API: `Conv2D(256, (3, 3), activation=\"relu\", name=\"conv3_3\")`\n",
      "/home/titanv/miniconda3/envs/tf/lib/python3.6/site-packages/ipykernel_launcher.py:111: UserWarning: Update your `Conv2D` call to the Keras 2 API: `Conv2D(512, (3, 3), activation=\"relu\", name=\"conv4_1\")`\n",
      "/home/titanv/miniconda3/envs/tf/lib/python3.6/site-packages/ipykernel_launcher.py:113: UserWarning: Update your `Conv2D` call to the Keras 2 API: `Conv2D(512, (3, 3), activation=\"relu\", name=\"conv4_2\")`\n",
      "/home/titanv/miniconda3/envs/tf/lib/python3.6/site-packages/ipykernel_launcher.py:115: UserWarning: Update your `Conv2D` call to the Keras 2 API: `Conv2D(512, (3, 3), activation=\"relu\", name=\"conv4_3\")`\n",
      "/home/titanv/miniconda3/envs/tf/lib/python3.6/site-packages/ipykernel_launcher.py:119: UserWarning: Update your `Conv2D` call to the Keras 2 API: `Conv2D(512, (3, 3), activation=\"relu\", name=\"conv5_1\")`\n",
      "/home/titanv/miniconda3/envs/tf/lib/python3.6/site-packages/ipykernel_launcher.py:121: UserWarning: Update your `Conv2D` call to the Keras 2 API: `Conv2D(512, (3, 3), activation=\"relu\", name=\"conv5_2\")`\n",
      "/home/titanv/miniconda3/envs/tf/lib/python3.6/site-packages/ipykernel_launcher.py:123: UserWarning: Update your `Conv2D` call to the Keras 2 API: `Conv2D(512, (3, 3), activation=\"relu\", name=\"conv5_3\")`\n"
     ]
    }
   ],
   "source": [
    "import keras\n",
    "\n",
    "from keras.models import Sequential, Model\n",
    "from keras.layers import Flatten, Dense, Dropout, Reshape, Permute, Activation, \\\n",
    "    Input, merge, Lambda\n",
    "from keras.layers.convolutional import Convolution2D, MaxPooling2D, ZeroPadding2D\n",
    "from keras.optimizers import SGD\n",
    "import numpy as np\n",
    "from scipy.misc import imread, imresize, imsave\n",
    "\n",
    "from keras import backend as K\n",
    "K.set_image_dim_ordering('th')\n",
    "\n",
    "from keras import regularizers\n",
    "from keras.callbacks import ModelCheckpoint, TensorBoard\n",
    "from customlayers import convolution2Dgroup, crosschannelnormalization, \\\n",
    "    splittensor, Softmax4D\n",
    "\n",
    "\n",
    "def convnet(network, weights_path=None, heatmap=False,\n",
    "            trainable=None):\n",
    "    \"\"\"\n",
    "    Returns a keras model for a CNN.\n",
    "    BEWARE !! : Since the different convnets have been trained in different settings, they don't take\n",
    "    data of the same shape. You should change the arguments of preprocess_image_batch for each CNN :\n",
    "    * For AlexNet, the data are of shape (227,227), and the colors in the RGB order (default)\n",
    "    * For VGG16 and VGG19, the data are of shape (224,224), and the colors in the BGR order\n",
    "    It can also be used to look at the hidden layers of the model.\n",
    "    It can be used that way :\n",
    "    >>> im = preprocess_image_batch(['cat.jpg'])\n",
    "    >>> # Test pretrained model\n",
    "    >>> model = convnet('vgg_16', 'weights/vgg16_weights.h5')\n",
    "    >>> sgd = SGD(lr=0.1, decay=1e-6, momentum=0.9, nesterov=True)\n",
    "    >>> model.compile(optimizer=sgd, loss='categorical_crossentropy')\n",
    "    >>> out = model.predict(im)\n",
    "    Parameters\n",
    "    --------------\n",
    "    network: str\n",
    "        The type of network chosen. For the moment, can be 'vgg_16' or 'vgg_19'\n",
    "    weights_path: str\n",
    "        Location of the pre-trained model. If not given, the model will be trained\n",
    "    heatmap: bool\n",
    "        Says wether the fully connected layers are transformed into Convolution2D layers,\n",
    "        to produce a heatmap instead of a\n",
    "    Returns\n",
    "    ---------------\n",
    "    model:\n",
    "        The keras model for this convnet\n",
    "    output_dict:\n",
    "        Dict of feature layers, asked for in output_layers.\n",
    "    \"\"\"\n",
    "\n",
    "\n",
    "    # Select the network\n",
    "    if network == 'vgg_16':\n",
    "        convnet_init = VGG_16\n",
    "    elif network == 'vgg_19':\n",
    "        convnet_init = VGG_19\n",
    "    elif network == 'alexnet':\n",
    "        convnet_init = AlexNet\n",
    "    convnet = convnet_init(weights_path, heatmap=False)\n",
    "\n",
    "    if not heatmap:\n",
    "        return convnet\n",
    "    else:\n",
    "        convnet_heatmap = convnet_init(heatmap=True)\n",
    "\n",
    "        for layer in convnet_heatmap.layers:\n",
    "            if layer.name.startswith(\"conv\"):\n",
    "                orig_layer = convnet.get_layer(layer.name)\n",
    "                layer.set_weights(orig_layer.get_weights())\n",
    "            elif layer.name.startswith(\"dense\"):\n",
    "                orig_layer = convnet.get_layer(layer.name)\n",
    "                W,b = orig_layer.get_weights()\n",
    "                n_filter,previous_filter,ax1,ax2 = layer.get_weights()[0].shape\n",
    "                new_W = W.reshape((previous_filter,ax1,ax2,n_filter))\n",
    "                new_W = new_W.transpose((3,0,1,2))\n",
    "                new_W = new_W[:,:,::-1,::-1]\n",
    "                layer.set_weights([new_W,b])\n",
    "        return convnet_heatmap\n",
    "\n",
    "    return model\n",
    "\n",
    "\n",
    "\n",
    "\n",
    "def VGG_16(weights_path=None, heatmap=False):\n",
    "    model = Sequential()\n",
    "    if heatmap:\n",
    "        model.add(ZeroPadding2D((1,1),input_shape=(1,None,None)))\n",
    "    else:\n",
    "        model.add(ZeroPadding2D((1,1),input_shape=(1,112,112)))\n",
    "    model.add(Convolution2D(64, 3, 3, activation='relu', name='conv1_1'))\n",
    "    model.add(ZeroPadding2D((1,1)))\n",
    "    model.add(Convolution2D(64, 3, 3, activation='relu', name='conv1_2'))\n",
    "    model.add(MaxPooling2D((2,2), strides=(2,2)))\n",
    "\n",
    "    model.add(ZeroPadding2D((1,1)))\n",
    "    model.add(Convolution2D(128, 3, 3, activation='relu', name='conv2_1'))\n",
    "    model.add(ZeroPadding2D((1,1)))\n",
    "    model.add(Convolution2D(128, 3, 3, activation='relu', name='conv2_2'))\n",
    "    model.add(MaxPooling2D((2,2), strides=(2,2)))\n",
    "\n",
    "    model.add(ZeroPadding2D((1,1)))\n",
    "    model.add(Convolution2D(256, 3, 3, activation='relu', name='conv3_1'))\n",
    "    model.add(ZeroPadding2D((1,1)))\n",
    "    model.add(Convolution2D(256, 3, 3, activation='relu', name='conv3_2'))\n",
    "    model.add(ZeroPadding2D((1,1)))\n",
    "    model.add(Convolution2D(256, 3, 3, activation='relu', name='conv3_3'))\n",
    "    model.add(MaxPooling2D((2,2), strides=(2,2)))\n",
    "\n",
    "    model.add(ZeroPadding2D((1,1)))\n",
    "    model.add(Convolution2D(512, 3, 3, activation='relu', name='conv4_1'))\n",
    "    model.add(ZeroPadding2D((1,1)))\n",
    "    model.add(Convolution2D(512, 3, 3, activation='relu', name='conv4_2'))\n",
    "    model.add(ZeroPadding2D((1,1)))\n",
    "    model.add(Convolution2D(512, 3, 3, activation='relu', name='conv4_3'))\n",
    "    model.add(MaxPooling2D((2,2), strides=(2,2)))\n",
    "\n",
    "    model.add(ZeroPadding2D((1,1)))\n",
    "    model.add(Convolution2D(512, 3, 3, activation='relu', name='conv5_1'))\n",
    "    model.add(ZeroPadding2D((1,1)))\n",
    "    model.add(Convolution2D(512, 3, 3, activation='relu', name='conv5_2'))\n",
    "    model.add(ZeroPadding2D((1,1)))\n",
    "    model.add(Convolution2D(512, 3, 3, activation='relu', name='conv5_3'))\n",
    "    model.add(MaxPooling2D((2,2), strides=(2,2)))\n",
    "\n",
    "    if heatmap:\n",
    "        model.add(Convolution2D(4096,7,7,activation=\"relu\",name=\"dense_1\"))\n",
    "        model.add(Convolution2D(4096,1,1,activation=\"relu\",name=\"dense_2\"))\n",
    "        model.add(Convolution2D(1000,1,1,name=\"dense_3\"))\n",
    "        model.add(Softmax4D(axis=1,name=\"softmax\"))\n",
    "    else:\n",
    "        model.add(Flatten(name=\"flatten\"))\n",
    "        model.add(Dense(4096, activation='relu', name='dense_1'))\n",
    "        model.add(Dropout(0.5))\n",
    "        model.add(Dense(4096, activation='relu', name='dense_2'))\n",
    "        model.add(Dropout(0.5))\n",
    "        model.add(Dense(4, name='dense_3'))\n",
    "        model.add(Activation(\"softmax\",name=\"softmax\"))\n",
    "\n",
    "    if weights_path:\n",
    "        model.load_weights(weights_path)\n",
    "    return model\n",
    "\n",
    "\n",
    "\n",
    "\n",
    "def VGG_19(weights_path=None,heatmap=False):\n",
    "    model = Sequential()\n",
    "\n",
    "    if heatmap:\n",
    "        model.add(ZeroPadding2D((1,1),input_shape=(3,None,None)))\n",
    "    else:\n",
    "        model.add(ZeroPadding2D((1,1),input_shape=(3,224,224)))\n",
    "    model.add(Convolution2D(64, 3, 3, activation='relu', name='conv1_1'))\n",
    "    model.add(ZeroPadding2D((1,1)))\n",
    "    model.add(Convolution2D(64, 3, 3, activation='relu', name='conv1_2'))\n",
    "    model.add(MaxPooling2D((2,2), strides=(2,2)))\n",
    "\n",
    "    model.add(ZeroPadding2D((1,1)))\n",
    "    model.add(Convolution2D(128, 3, 3, activation='relu', name='conv2_1'))\n",
    "    model.add(ZeroPadding2D((1,1)))\n",
    "    model.add(Convolution2D(128, 3, 3, activation='relu', name='conv2_2'))\n",
    "    model.add(MaxPooling2D((2,2), strides=(2,2)))\n",
    "\n",
    "    model.add(ZeroPadding2D((1,1)))\n",
    "    model.add(Convolution2D(256, 3, 3, activation='relu', name='conv3_1'))\n",
    "    model.add(ZeroPadding2D((1,1)))\n",
    "    model.add(Convolution2D(256, 3, 3, activation='relu', name='conv3_2'))\n",
    "    model.add(ZeroPadding2D((1,1)))\n",
    "    model.add(Convolution2D(256, 3, 3, activation='relu', name='conv3_3'))\n",
    "    model.add(ZeroPadding2D((1,1)))\n",
    "    model.add(Convolution2D(256, 3, 3, activation='relu', name='conv3_4'))\n",
    "    model.add(MaxPooling2D((2,2), strides=(2,2)))\n",
    "\n",
    "    model.add(ZeroPadding2D((1,1)))\n",
    "    model.add(Convolution2D(512, 3, 3, activation='relu', name='conv4_1'))\n",
    "    model.add(ZeroPadding2D((1,1)))\n",
    "    model.add(Convolution2D(512, 3, 3, activation='relu', name='conv4_2'))\n",
    "    model.add(ZeroPadding2D((1,1)))\n",
    "    model.add(Convolution2D(512, 3, 3, activation='relu', name='conv4_3'))\n",
    "    model.add(ZeroPadding2D((1,1)))\n",
    "    model.add(Convolution2D(512, 3, 3, activation='relu', name='conv4_4'))\n",
    "    model.add(MaxPooling2D((2,2), strides=(2,2)))\n",
    "\n",
    "    model.add(ZeroPadding2D((1,1)))\n",
    "    model.add(Convolution2D(512, 3, 3, activation='relu', name='conv5_1'))\n",
    "    model.add(ZeroPadding2D((1,1)))\n",
    "    model.add(Convolution2D(512, 3, 3, activation='relu', name='conv5_2'))\n",
    "    model.add(ZeroPadding2D((1,1)))\n",
    "    model.add(Convolution2D(512, 3, 3, activation='relu', name='conv5_3'))\n",
    "    model.add(ZeroPadding2D((1,1)))\n",
    "    model.add(Convolution2D(512, 3, 3, activation='relu', name='conv5_4'))\n",
    "    model.add(MaxPooling2D((2,2), strides=(2,2)))\n",
    "\n",
    "    if heatmap:\n",
    "        model.add(Convolution2D(4096,7,7,activation=\"relu\",name=\"dense_1\"))\n",
    "        model.add(Convolution2D(4096,1,1,activation=\"relu\",name=\"dense_2\"))\n",
    "        model.add(Convolution2D(1000,1,1,name=\"dense_3\"))\n",
    "        model.add(Softmax4D(axis=1,name=\"softmax\"))\n",
    "    else:\n",
    "        model.add(Flatten())\n",
    "        model.add(Dense(4096, activation='relu', name='dense_1'))\n",
    "        model.add(Dropout(0.5))\n",
    "        model.add(Dense(4096, activation='relu', name='dense_2'))\n",
    "        model.add(Dropout(0.5))\n",
    "        model.add(Dense(1000, name='dense_3'))\n",
    "        model.add(Activation(\"softmax\"))\n",
    "\n",
    "    if weights_path:\n",
    "        model.load_weights(weights_path)\n",
    "\n",
    "    return model\n",
    "\n",
    "\n",
    "\n",
    "def AlexNet(weights_path=None, heatmap=False):\n",
    "    if heatmap:\n",
    "        inputs = Input(shape=(3,None,None))\n",
    "    else:\n",
    "        inputs = Input(shape=(3,227,227))\n",
    "\n",
    "    conv_1 = Convolution2D(96, 11, 11,subsample=(4,4),activation='relu',\n",
    "                           name='conv_1')(inputs)\n",
    "\n",
    "    conv_2 = MaxPooling2D((3, 3), strides=(2,2))(conv_1)\n",
    "    conv_2 = crosschannelnormalization(name=\"convpool_1\")(conv_2)\n",
    "    conv_2 = ZeroPadding2D((2,2))(conv_2)\n",
    "    conv_2 = merge([\n",
    "        Convolution2D(128,5,5,activation=\"relu\",name='conv_2_'+str(i+1))(\n",
    "            splittensor(ratio_split=2,id_split=i)(conv_2)\n",
    "        ) for i in range(2)], mode='concat',concat_axis=1,name=\"conv_2\")\n",
    "\n",
    "    conv_3 = MaxPooling2D((3, 3), strides=(2, 2))(conv_2)\n",
    "    conv_3 = crosschannelnormalization()(conv_3)\n",
    "    conv_3 = ZeroPadding2D((1,1))(conv_3)\n",
    "    conv_3 = Convolution2D(384,3,3,activation='relu',name='conv_3')(conv_3)\n",
    "\n",
    "    conv_4 = ZeroPadding2D((1,1))(conv_3)\n",
    "    conv_4 = merge([\n",
    "        Convolution2D(192,3,3,activation=\"relu\",name='conv_4_'+str(i+1))(\n",
    "            splittensor(ratio_split=2,id_split=i)(conv_4)\n",
    "        ) for i in range(2)], mode='concat',concat_axis=1,name=\"conv_4\")\n",
    "\n",
    "    conv_5 = ZeroPadding2D((1,1))(conv_4)\n",
    "    conv_5 = merge([\n",
    "        Convolution2D(128,3,3,activation=\"relu\",name='conv_5_'+str(i+1))(\n",
    "            splittensor(ratio_split=2,id_split=i)(conv_5)\n",
    "        ) for i in range(2)], mode='concat',concat_axis=1,name=\"conv_5\")\n",
    "\n",
    "    dense_1 = MaxPooling2D((3, 3), strides=(2,2),name=\"convpool_5\")(conv_5)\n",
    "\n",
    "    if heatmap:\n",
    "        dense_1 = Convolution2D(4096,6,6,activation=\"relu\",name=\"dense_1\")(dense_1)\n",
    "        dense_2 = Convolution2D(4096,1,1,activation=\"relu\",name=\"dense_2\")(dense_1)\n",
    "        dense_3 = Convolution2D(1000, 1,1,name=\"dense_3\")(dense_2)\n",
    "        prediction = Softmax4D(axis=1,name=\"softmax\")(dense_3)\n",
    "    else:\n",
    "        dense_1 = Flatten(name=\"flatten\")(dense_1)\n",
    "        dense_1 = Dense(4096, activation='relu',name='dense_1')(dense_1)\n",
    "        dense_2 = Dropout(0.5)(dense_1)\n",
    "        dense_2 = Dense(4096, activation='relu',name='dense_2')(dense_2)\n",
    "        dense_3 = Dropout(0.5)(dense_2)\n",
    "        dense_3 = Dense(4,name='dense_3')(dense_3)\n",
    "        prediction = Activation(\"softmax\",name=\"softmax\")(dense_3)\n",
    "\n",
    "\n",
    "    model = Model(input=inputs, output=prediction)\n",
    "\n",
    "    if weights_path:\n",
    "        model.load_weights(weights_path, exclude=[\"dense_3\", \"softmax\"])\n",
    "\n",
    "    return model\n",
    "\n",
    "\n",
    "\n",
    "\n",
    "\n",
    "\n",
    "\n",
    "# Test pretrained model\n",
    "model = convnet('vgg_16', heatmap=False)\n",
    "#model.load_weights('/media/lsdf02/sd17a005/LSDF2_Bjoern/For_Lukas/weights/vgg_16-weights-eight-phenotypes-24-0.81.hdf5')\n",
    "model.compile(loss='categorical_crossentropy',\n",
    "              optimizer=keras.optimizers.Adam(lr=0.0001, beta_1=0.9, beta_2=0.999, epsilon=None, decay=0, amsgrad=False),\n",
    "              metrics=['accuracy'])\n",
    "\n",
    "filepath=\"/mnt/isilon/Group/Lukas/weights/vgg_16-weights-four-phenotypes-compare-random-forest-{epoch:02d}-{val_acc:.2f}.hdf5\"\n",
    "checkpoint = ModelCheckpoint(filepath, monitor='val_acc', verbose=1, save_best_only=True, mode='max')\n",
    "tensorboard = TensorBoard(log_dir='./logs', histogram_freq=0, batch_size=16)\n",
    "callbacks = [checkpoint, tensorboard]"
   ]
  },
  {
   "cell_type": "code",
   "execution_count": 27,
   "metadata": {},
   "outputs": [],
   "source": [
    "from keras.models import load_model\n",
    "\n",
    "#/mnt/isilon/Group/Lukas/weights/vgg_16-weights-nine-phenotypes-10-0.93.hdf5\n",
    "model = load_model('/mnt/isilon/Group/Lukas/weights/vgg_16-weights-four-phenotypes-compare-random-forest-27-0.78.hdf5')"
   ]
  },
  {
   "cell_type": "code",
   "execution_count": 28,
   "metadata": {},
   "outputs": [
    {
     "name": "stdout",
     "output_type": "stream",
     "text": [
      "Tensor(\"zero_padding2d_1_2/Pad:0\", shape=(?, 1, 114, 114), dtype=float32)\n"
     ]
    }
   ],
   "source": [
    "print(model.layers[0].output)"
   ]
  },
  {
   "cell_type": "code",
   "execution_count": null,
   "metadata": {},
   "outputs": [],
   "source": []
  },
  {
   "cell_type": "code",
   "execution_count": 22,
   "metadata": {
    "scrolled": true
   },
   "outputs": [
    {
     "name": "stdout",
     "output_type": "stream",
     "text": [
      "Train on 1478 samples, validate on 165 samples\n",
      "Epoch 1/50\n",
      "1478/1478 [==============================] - 8s 5ms/step - loss: 1.2277 - acc: 0.4445 - val_loss: 1.2543 - val_acc: 0.3939\n",
      "\n",
      "Epoch 00001: val_acc improved from -inf to 0.39394, saving model to /mnt/isilon/Group/Lukas/weights/vgg_16-weights-four-phenotypes-compare-random-forest-01-0.39.hdf5\n",
      "Epoch 2/50\n",
      "1478/1478 [==============================] - 5s 4ms/step - loss: 1.0125 - acc: 0.5589 - val_loss: 1.1092 - val_acc: 0.5394\n",
      "\n",
      "Epoch 00002: val_acc improved from 0.39394 to 0.53939, saving model to /mnt/isilon/Group/Lukas/weights/vgg_16-weights-four-phenotypes-compare-random-forest-02-0.54.hdf5\n",
      "Epoch 3/50\n",
      "1478/1478 [==============================] - 5s 4ms/step - loss: 0.9412 - acc: 0.5792 - val_loss: 1.0151 - val_acc: 0.5576\n",
      "\n",
      "Epoch 00003: val_acc improved from 0.53939 to 0.55758, saving model to /mnt/isilon/Group/Lukas/weights/vgg_16-weights-four-phenotypes-compare-random-forest-03-0.56.hdf5\n",
      "Epoch 4/50\n",
      "1478/1478 [==============================] - 6s 4ms/step - loss: 0.8514 - acc: 0.6150 - val_loss: 1.0312 - val_acc: 0.5576\n",
      "\n",
      "Epoch 00004: val_acc did not improve from 0.55758\n",
      "Epoch 5/50\n",
      "1478/1478 [==============================] - 6s 4ms/step - loss: 0.8346 - acc: 0.6191 - val_loss: 0.9282 - val_acc: 0.5758\n",
      "\n",
      "Epoch 00005: val_acc improved from 0.55758 to 0.57576, saving model to /mnt/isilon/Group/Lukas/weights/vgg_16-weights-four-phenotypes-compare-random-forest-05-0.58.hdf5\n",
      "Epoch 6/50\n",
      "1478/1478 [==============================] - 6s 4ms/step - loss: 0.8265 - acc: 0.6143 - val_loss: 0.9622 - val_acc: 0.5818\n",
      "\n",
      "Epoch 00006: val_acc improved from 0.57576 to 0.58182, saving model to /mnt/isilon/Group/Lukas/weights/vgg_16-weights-four-phenotypes-compare-random-forest-06-0.58.hdf5\n",
      "Epoch 7/50\n",
      "1478/1478 [==============================] - 6s 4ms/step - loss: 0.7880 - acc: 0.6367 - val_loss: 0.9180 - val_acc: 0.5939\n",
      "\n",
      "Epoch 00007: val_acc improved from 0.58182 to 0.59394, saving model to /mnt/isilon/Group/Lukas/weights/vgg_16-weights-four-phenotypes-compare-random-forest-07-0.59.hdf5\n",
      "Epoch 8/50\n",
      "1478/1478 [==============================] - 6s 4ms/step - loss: 0.7633 - acc: 0.6482 - val_loss: 0.9055 - val_acc: 0.5818\n",
      "\n",
      "Epoch 00008: val_acc did not improve from 0.59394\n",
      "Epoch 9/50\n",
      "1478/1478 [==============================] - 6s 4ms/step - loss: 0.7312 - acc: 0.6901 - val_loss: 0.9702 - val_acc: 0.5879\n",
      "\n",
      "Epoch 00009: val_acc did not improve from 0.59394\n",
      "Epoch 10/50\n",
      "1478/1478 [==============================] - 6s 4ms/step - loss: 0.6448 - acc: 0.7206 - val_loss: 0.8222 - val_acc: 0.7152\n",
      "\n",
      "Epoch 00010: val_acc improved from 0.59394 to 0.71515, saving model to /mnt/isilon/Group/Lukas/weights/vgg_16-weights-four-phenotypes-compare-random-forest-10-0.72.hdf5\n",
      "Epoch 11/50\n",
      "1478/1478 [==============================] - 6s 4ms/step - loss: 0.6589 - acc: 0.7300 - val_loss: 0.8189 - val_acc: 0.7030\n",
      "\n",
      "Epoch 00011: val_acc did not improve from 0.71515\n",
      "Epoch 12/50\n",
      "1478/1478 [==============================] - 6s 4ms/step - loss: 0.6369 - acc: 0.7442 - val_loss: 0.7783 - val_acc: 0.7152\n",
      "\n",
      "Epoch 00012: val_acc improved from 0.71515 to 0.71515, saving model to /mnt/isilon/Group/Lukas/weights/vgg_16-weights-four-phenotypes-compare-random-forest-12-0.72.hdf5\n",
      "Epoch 13/50\n",
      "1478/1478 [==============================] - 6s 4ms/step - loss: 0.5338 - acc: 0.7991 - val_loss: 0.7349 - val_acc: 0.7394\n",
      "\n",
      "Epoch 00013: val_acc improved from 0.71515 to 0.73939, saving model to /mnt/isilon/Group/Lukas/weights/vgg_16-weights-four-phenotypes-compare-random-forest-13-0.74.hdf5\n",
      "Epoch 14/50\n",
      "1478/1478 [==============================] - 6s 4ms/step - loss: 0.4507 - acc: 0.8288 - val_loss: 1.0314 - val_acc: 0.6909\n",
      "\n",
      "Epoch 00014: val_acc did not improve from 0.73939\n",
      "Epoch 15/50\n",
      "1478/1478 [==============================] - 6s 4ms/step - loss: 0.4907 - acc: 0.8112 - val_loss: 0.9823 - val_acc: 0.6909\n",
      "\n",
      "Epoch 00015: val_acc did not improve from 0.73939\n",
      "Epoch 16/50\n",
      "1478/1478 [==============================] - 6s 4ms/step - loss: 0.3863 - acc: 0.8566 - val_loss: 1.0021 - val_acc: 0.7273\n",
      "\n",
      "Epoch 00016: val_acc did not improve from 0.73939\n",
      "Epoch 17/50\n",
      "1478/1478 [==============================] - 6s 4ms/step - loss: 0.3591 - acc: 0.8627 - val_loss: 1.1867 - val_acc: 0.7576\n",
      "\n",
      "Epoch 00017: val_acc improved from 0.73939 to 0.75758, saving model to /mnt/isilon/Group/Lukas/weights/vgg_16-weights-four-phenotypes-compare-random-forest-17-0.76.hdf5\n",
      "Epoch 18/50\n",
      "1478/1478 [==============================] - 6s 4ms/step - loss: 0.3275 - acc: 0.8924 - val_loss: 0.9002 - val_acc: 0.7697\n",
      "\n",
      "Epoch 00018: val_acc improved from 0.75758 to 0.76970, saving model to /mnt/isilon/Group/Lukas/weights/vgg_16-weights-four-phenotypes-compare-random-forest-18-0.77.hdf5\n",
      "Epoch 19/50\n",
      "1478/1478 [==============================] - 6s 4ms/step - loss: 0.2936 - acc: 0.9073 - val_loss: 0.9579 - val_acc: 0.7394\n",
      "\n",
      "Epoch 00019: val_acc did not improve from 0.76970\n",
      "Epoch 20/50\n",
      "1478/1478 [==============================] - 6s 4ms/step - loss: 0.2868 - acc: 0.9046 - val_loss: 1.1426 - val_acc: 0.7394\n",
      "\n",
      "Epoch 00020: val_acc did not improve from 0.76970\n",
      "Epoch 21/50\n",
      "1478/1478 [==============================] - 6s 4ms/step - loss: 0.2104 - acc: 0.9323 - val_loss: 0.9030 - val_acc: 0.7576\n",
      "\n",
      "Epoch 00021: val_acc did not improve from 0.76970\n",
      "Epoch 22/50\n",
      "1478/1478 [==============================] - 6s 4ms/step - loss: 0.2114 - acc: 0.9337 - val_loss: 1.0869 - val_acc: 0.7515\n",
      "\n",
      "Epoch 00022: val_acc did not improve from 0.76970\n",
      "Epoch 23/50\n",
      "1478/1478 [==============================] - 6s 4ms/step - loss: 0.1797 - acc: 0.9445 - val_loss: 0.9390 - val_acc: 0.7697\n",
      "\n",
      "Epoch 00023: val_acc improved from 0.76970 to 0.76970, saving model to /mnt/isilon/Group/Lukas/weights/vgg_16-weights-four-phenotypes-compare-random-forest-23-0.77.hdf5\n",
      "Epoch 24/50\n",
      "1478/1478 [==============================] - 6s 4ms/step - loss: 0.1903 - acc: 0.9398 - val_loss: 1.1191 - val_acc: 0.7333\n",
      "\n",
      "Epoch 00024: val_acc did not improve from 0.76970\n",
      "Epoch 25/50\n",
      "1478/1478 [==============================] - 6s 4ms/step - loss: 0.1323 - acc: 0.9635 - val_loss: 1.1170 - val_acc: 0.7394\n",
      "\n",
      "Epoch 00025: val_acc did not improve from 0.76970\n",
      "Epoch 26/50\n",
      "1478/1478 [==============================] - 6s 4ms/step - loss: 0.1552 - acc: 0.9472 - val_loss: 1.2967 - val_acc: 0.7333\n",
      "\n",
      "Epoch 00026: val_acc did not improve from 0.76970\n",
      "Epoch 27/50\n",
      "1478/1478 [==============================] - 6s 4ms/step - loss: 0.1257 - acc: 0.9635 - val_loss: 1.0364 - val_acc: 0.7818\n",
      "\n",
      "Epoch 00027: val_acc improved from 0.76970 to 0.78182, saving model to /mnt/isilon/Group/Lukas/weights/vgg_16-weights-four-phenotypes-compare-random-forest-27-0.78.hdf5\n",
      "Epoch 28/50\n",
      "1478/1478 [==============================] - 6s 4ms/step - loss: 0.0934 - acc: 0.9696 - val_loss: 1.2965 - val_acc: 0.7697\n",
      "\n",
      "Epoch 00028: val_acc did not improve from 0.78182\n",
      "Epoch 29/50\n",
      "1478/1478 [==============================] - 6s 4ms/step - loss: 0.0866 - acc: 0.9756 - val_loss: 1.3001 - val_acc: 0.7515\n",
      "\n",
      "Epoch 00029: val_acc did not improve from 0.78182\n",
      "Epoch 30/50\n",
      "1478/1478 [==============================] - 6s 4ms/step - loss: 0.0825 - acc: 0.9696 - val_loss: 1.5996 - val_acc: 0.7455\n",
      "\n",
      "Epoch 00030: val_acc did not improve from 0.78182\n",
      "Epoch 31/50\n",
      "1478/1478 [==============================] - 6s 4ms/step - loss: 0.0704 - acc: 0.9750 - val_loss: 1.5275 - val_acc: 0.7636\n",
      "\n",
      "Epoch 00031: val_acc did not improve from 0.78182\n",
      "Epoch 32/50\n",
      "1478/1478 [==============================] - 6s 4ms/step - loss: 0.0923 - acc: 0.9682 - val_loss: 1.4978 - val_acc: 0.7030\n",
      "\n",
      "Epoch 00032: val_acc did not improve from 0.78182\n",
      "Epoch 33/50\n",
      "1478/1478 [==============================] - 6s 4ms/step - loss: 0.0461 - acc: 0.9885 - val_loss: 1.6542 - val_acc: 0.7212\n",
      "\n",
      "Epoch 00033: val_acc did not improve from 0.78182\n",
      "Epoch 34/50\n",
      "1478/1478 [==============================] - 6s 4ms/step - loss: 0.0771 - acc: 0.9729 - val_loss: 1.5594 - val_acc: 0.7273\n",
      "\n",
      "Epoch 00034: val_acc did not improve from 0.78182\n",
      "Epoch 35/50\n",
      "1478/1478 [==============================] - 6s 4ms/step - loss: 0.0998 - acc: 0.9729 - val_loss: 1.4997 - val_acc: 0.7636\n",
      "\n",
      "Epoch 00035: val_acc did not improve from 0.78182\n",
      "Epoch 36/50\n",
      "1478/1478 [==============================] - 5s 4ms/step - loss: 0.0621 - acc: 0.9831 - val_loss: 1.1947 - val_acc: 0.7333\n",
      "\n",
      "Epoch 00036: val_acc did not improve from 0.78182\n",
      "Epoch 37/50\n",
      "1478/1478 [==============================] - 5s 4ms/step - loss: 0.0336 - acc: 0.9878 - val_loss: 1.3844 - val_acc: 0.7758\n",
      "\n",
      "Epoch 00037: val_acc did not improve from 0.78182\n",
      "Epoch 38/50\n",
      "1478/1478 [==============================] - 6s 4ms/step - loss: 0.0326 - acc: 0.9892 - val_loss: 1.2304 - val_acc: 0.7758\n",
      "\n",
      "Epoch 00038: val_acc did not improve from 0.78182\n",
      "Epoch 39/50\n",
      "1478/1478 [==============================] - 5s 4ms/step - loss: 0.0346 - acc: 0.9858 - val_loss: 1.8176 - val_acc: 0.7212\n",
      "\n",
      "Epoch 00039: val_acc did not improve from 0.78182\n",
      "Epoch 40/50\n",
      "1478/1478 [==============================] - 5s 4ms/step - loss: 0.0838 - acc: 0.9709 - val_loss: 1.6188 - val_acc: 0.7091\n",
      "\n",
      "Epoch 00040: val_acc did not improve from 0.78182\n",
      "Epoch 41/50\n",
      "1478/1478 [==============================] - 6s 4ms/step - loss: 0.0582 - acc: 0.9838 - val_loss: 1.4737 - val_acc: 0.7455\n",
      "\n",
      "Epoch 00041: val_acc did not improve from 0.78182\n",
      "Epoch 42/50\n",
      "1478/1478 [==============================] - 6s 4ms/step - loss: 0.0685 - acc: 0.9790 - val_loss: 1.4648 - val_acc: 0.7455\n",
      "\n",
      "Epoch 00042: val_acc did not improve from 0.78182\n",
      "Epoch 43/50\n",
      "1478/1478 [==============================] - 6s 4ms/step - loss: 0.0371 - acc: 0.9878 - val_loss: 1.4350 - val_acc: 0.7697\n",
      "\n",
      "Epoch 00043: val_acc did not improve from 0.78182\n",
      "Epoch 44/50\n",
      "1478/1478 [==============================] - 6s 4ms/step - loss: 0.0101 - acc: 0.9980 - val_loss: 1.6017 - val_acc: 0.7394\n",
      "\n",
      "Epoch 00044: val_acc did not improve from 0.78182\n",
      "Epoch 45/50\n",
      "1478/1478 [==============================] - 6s 4ms/step - loss: 0.0039 - acc: 0.9986 - val_loss: 1.6992 - val_acc: 0.7576\n",
      "\n",
      "Epoch 00045: val_acc did not improve from 0.78182\n",
      "Epoch 46/50\n",
      "1478/1478 [==============================] - 6s 4ms/step - loss: 6.7487e-04 - acc: 1.0000 - val_loss: 1.8894 - val_acc: 0.7515\n",
      "\n",
      "Epoch 00046: val_acc did not improve from 0.78182\n",
      "Epoch 47/50\n",
      "1478/1478 [==============================] - 6s 4ms/step - loss: 2.5956e-04 - acc: 1.0000 - val_loss: 2.0876 - val_acc: 0.7515\n",
      "\n",
      "Epoch 00047: val_acc did not improve from 0.78182\n",
      "Epoch 48/50\n",
      "1478/1478 [==============================] - 6s 4ms/step - loss: 1.2633e-04 - acc: 1.0000 - val_loss: 2.1768 - val_acc: 0.7515\n",
      "\n",
      "Epoch 00048: val_acc did not improve from 0.78182\n",
      "Epoch 49/50\n",
      "1478/1478 [==============================] - 6s 4ms/step - loss: 5.2743e-05 - acc: 1.0000 - val_loss: 2.2918 - val_acc: 0.7515\n",
      "\n",
      "Epoch 00049: val_acc did not improve from 0.78182\n",
      "Epoch 50/50\n",
      "1478/1478 [==============================] - 6s 4ms/step - loss: 3.5464e-05 - acc: 1.0000 - val_loss: 2.3675 - val_acc: 0.7515\n",
      "\n",
      "Epoch 00050: val_acc did not improve from 0.78182\n"
     ]
    }
   ],
   "source": [
    "batch_size = 16\n",
    "epochs = 50\n",
    "\n",
    "\n",
    "history = model.fit(x_train, y_train,\n",
    "              batch_size=batch_size,\n",
    "              epochs=epochs,\n",
    "              verbose=1,\n",
    "              validation_data=(x_test, y_test),\n",
    "              callbacks=callbacks\n",
    "             )\n",
    "sess.close()"
   ]
  },
  {
   "cell_type": "code",
   "execution_count": 23,
   "metadata": {},
   "outputs": [
    {
     "name": "stdout",
     "output_type": "stream",
     "text": [
      "dict_keys(['val_loss', 'val_acc', 'loss', 'acc'])\n"
     ]
    },
    {
     "data": {
      "image/png": "[encoded data removed]",
      "text/plain": [
       "<Figure size 432x288 with 1 Axes>"
      ]
     },
     "metadata": {},
     "output_type": "display_data"
    },
    {
     "data": {
      "image/png": "[encoded data removed]",
      "text/plain": [
       "<Figure size 432x288 with 1 Axes>"
      ]
     },
     "metadata": {},
     "output_type": "display_data"
    }
   ],
   "source": [
    "# list all data in history\n",
    "print(history.history.keys())\n",
    "# summarize history for accuracy\n",
    "plt.plot(history.history['acc'])\n",
    "plt.plot(history.history['val_acc'])\n",
    "plt.title('model accuracy')\n",
    "plt.ylabel('accuracy')\n",
    "plt.xlabel('epoch')\n",
    "plt.legend(['train', 'test'], loc='upper left')\n",
    "plt.show()\n",
    "# summarize history for loss\n",
    "plt.plot(history.history['loss'])\n",
    "plt.plot(history.history['val_loss'])\n",
    "plt.title('model loss')\n",
    "plt.ylabel('loss')\n",
    "plt.xlabel('epoch')\n",
    "plt.legend(['train', 'test'], loc='upper left')\n",
    "plt.show()"
   ]
  },
  {
   "cell_type": "code",
   "execution_count": 29,
   "metadata": {},
   "outputs": [
    {
     "name": "stdout",
     "output_type": "stream",
     "text": [
      "165/165 [==============================] - 1s 3ms/step\n"
     ]
    },
    {
     "data": {
      "text/plain": [
       "[1.0364492011792732, 0.7818181821794221]"
      ]
     },
     "execution_count": 29,
     "metadata": {},
     "output_type": "execute_result"
    }
   ],
   "source": [
    "model.evaluate(x=x_test, y=y_test, batch_size=16, verbose=1)"
   ]
  },
  {
   "cell_type": "code",
   "execution_count": 30,
   "metadata": {},
   "outputs": [],
   "source": [
    "from sklearn.metrics import confusion_matrix"
   ]
  },
  {
   "cell_type": "code",
   "execution_count": 31,
   "metadata": {},
   "outputs": [
    {
     "name": "stdout",
     "output_type": "stream",
     "text": [
      "(165, 1, 112, 112)\n"
     ]
    }
   ],
   "source": [
    "print(x_test.shape)"
   ]
  },
  {
   "cell_type": "code",
   "execution_count": 32,
   "metadata": {},
   "outputs": [],
   "source": [
    "predict_test = model.predict([x_test])"
   ]
  },
  {
   "cell_type": "code",
   "execution_count": 33,
   "metadata": {},
   "outputs": [
    {
     "name": "stdout",
     "output_type": "stream",
     "text": [
      "(165, 4)\n"
     ]
    }
   ],
   "source": [
    "print(predict_test.shape)"
   ]
  },
  {
   "cell_type": "code",
   "execution_count": 34,
   "metadata": {},
   "outputs": [],
   "source": [
    "cnf_matrix = confusion_matrix(np.argmax(predict_test, axis=1), np.argmax(y_test, axis=1))"
   ]
  },
  {
   "cell_type": "code",
   "execution_count": 35,
   "metadata": {},
   "outputs": [],
   "source": [
    "import csv"
   ]
  },
  {
   "cell_type": "code",
   "execution_count": 36,
   "metadata": {},
   "outputs": [],
   "source": [
    "with open(\"/mnt/isilon/Group/Lukas/bjoern_paper/cnf_matrix_four_phenotypes_comparison_random_forest.csv\", \"w\") as output:\n",
    "    writer = csv.writer(output, lineterminator='\\n')\n",
    "    writer.writerows(cnf_matrix)"
   ]
  },
  {
   "cell_type": "code",
   "execution_count": 37,
   "metadata": {},
   "outputs": [],
   "source": [
    "import itertools"
   ]
  },
  {
   "cell_type": "code",
   "execution_count": 38,
   "metadata": {},
   "outputs": [],
   "source": [
    "def plot_confusion_matrix(cm, classes,\n",
    "                          normalize=False,\n",
    "                          title='Confusion matrix',\n",
    "                          cmap=plt.cm.Blues):\n",
    "    \"\"\"\n",
    "    This function prints and plots the confusion matrix.\n",
    "    Normalization can be applied by setting `normalize=True`.\n",
    "    \"\"\"\n",
    "    if normalize:\n",
    "        cm = cm.astype('float') / cm.sum(axis=1)[:, np.newaxis]\n",
    "        print(\"Normalized confusion matrix\")\n",
    "    else:\n",
    "        print('Confusion matrix, without normalization')\n",
    "\n",
    "    print(cm)\n",
    "\n",
    "    plt.imshow(cm, interpolation='nearest', cmap=cmap)\n",
    "    plt.title(title)\n",
    "    plt.colorbar()\n",
    "    tick_marks = np.arange(len(classes))\n",
    "    plt.xticks(tick_marks, classes, rotation=45)\n",
    "    plt.yticks(tick_marks, classes)\n",
    "\n",
    "    fmt = '.2f' if normalize else 'd'\n",
    "    thresh = cm.max() / 2.\n",
    "    for i, j in itertools.product(range(cm.shape[0]), range(cm.shape[1])):\n",
    "        plt.text(j, i, format(cm[i, j], fmt),\n",
    "                 horizontalalignment=\"center\",\n",
    "                 color=\"white\" if cm[i, j] > thresh else \"black\")\n",
    "\n",
    "    plt.tight_layout()\n",
    "    plt.ylabel('True label')\n",
    "    plt.xlabel('Predicted label')"
   ]
  },
  {
   "cell_type": "code",
   "execution_count": 39,
   "metadata": {},
   "outputs": [
    {
     "name": "stdout",
     "output_type": "stream",
     "text": [
      "Normalized confusion matrix\n",
      "[[0.89285714 0.         0.01785714 0.08928571]\n",
      " [0.06122449 0.65306122 0.10204082 0.18367347]\n",
      " [0.         0.1        0.9        0.        ]\n",
      " [0.15       0.25       0.05       0.55      ]]\n"
     ]
    },
    {
     "data": {
      "image/png": "[encoded data removed]",
      "text/plain": [
       "<Figure size 432x288 with 2 Axes>"
      ]
     },
     "metadata": {},
     "output_type": "display_data"
    }
   ],
   "source": [
    "# Plot non-normalized confusion matrix\n",
    "#plt.figure()\n",
    "#plot_confusion_matrix(cnf_matrix, classes=['Interphase', 'Metaphase', 'Anaphase', 'Prophase'],\n",
    "                      #title='Confusion matrix without normalization')\n",
    "\n",
    "# Plot normalized confusion matrix\n",
    "plt.figure()\n",
    "plot_confusion_matrix(cnf_matrix, classes=list(mitosis_dict.keys()), normalize=True,\n",
    "                      title='Normalized confusion matrix')\n",
    "\n",
    "plt.show()"
   ]
  },
  {
   "cell_type": "code",
   "execution_count": null,
   "metadata": {},
   "outputs": [],
   "source": []
  },
  {
   "cell_type": "code",
   "execution_count": 38,
   "metadata": {},
   "outputs": [],
   "source": [
    "from sklearn.metrics import precision_recall_curve\n",
    "from sklearn.metrics import average_precision_score"
   ]
  },
  {
   "cell_type": "code",
   "execution_count": 39,
   "metadata": {},
   "outputs": [
    {
     "name": "stdout",
     "output_type": "stream",
     "text": [
      "Average precision score, micro-averaged over all classes: 0.98\n"
     ]
    }
   ],
   "source": [
    "#For each class\n",
    "precision = dict()\n",
    "recall = dict()\n",
    "average_precision = dict()\n",
    "for i in range(4):\n",
    "    precision[i], recall[i], _ = precision_recall_curve(y_test[:, i],\n",
    "                                                        predict_test[:, i])\n",
    "    average_precision[i] = average_precision_score(y_test[:, i], predict_test[:, i])\n",
    "\n",
    "# A \"micro-average\": quantifying score on all classes jointly\n",
    "precision[\"micro\"], recall[\"micro\"], _ = precision_recall_curve(y_test.ravel(),\n",
    "    predict_test.ravel())\n",
    "average_precision[\"micro\"] = average_precision_score(y_test, predict_test,\n",
    "                                                     average=\"micro\")\n",
    "print('Average precision score, micro-averaged over all classes: {0:0.2f}'\n",
    "      .format(average_precision[\"micro\"]))\n"
   ]
  },
  {
   "cell_type": "code",
   "execution_count": 40,
   "metadata": {},
   "outputs": [
    {
     "data": {
      "text/plain": [
       "Text(0.5,1,'Average precision score, micro-averaged over all classes: AP=0.98')"
      ]
     },
     "execution_count": 40,
     "metadata": {},
     "output_type": "execute_result"
    },
    {
     "data": {
      "image/png": "[encoded data removed]",
      "text/plain": [
       "<Figure size 432x288 with 1 Axes>"
      ]
     },
     "metadata": {},
     "output_type": "display_data"
    }
   ],
   "source": [
    "plt.figure()\n",
    "plt.step(recall['micro'], precision['micro'], color='b', alpha=0.2,\n",
    "         where='post')\n",
    "plt.fill_between(recall[\"micro\"], precision[\"micro\"], step='post', alpha=0.2,\n",
    "                 color='b')\n",
    "\n",
    "plt.xlabel('Recall')\n",
    "plt.ylabel('Precision')\n",
    "plt.title(\n",
    "    'Average precision score, micro-averaged over all classes: AP={0:0.2f}'\n",
    "    .format(average_precision[\"micro\"]))"
   ]
  },
  {
   "cell_type": "code",
   "execution_count": 42,
   "metadata": {},
   "outputs": [
    {
     "data": {
      "image/png": "[encoded data removed]",
      "text/plain": [
       "<Figure size 504x576 with 1 Axes>"
      ]
     },
     "metadata": {},
     "output_type": "display_data"
    }
   ],
   "source": [
    "from itertools import cycle\n",
    "# setup plot details\n",
    "colors = cycle(['navy', 'turquoise', 'darkorange', 'cornflowerblue', 'teal'])\n",
    "\n",
    "plt.figure(figsize=(7, 8))\n",
    "f_scores = np.linspace(0.2, 0.8, num=4)\n",
    "lines = []\n",
    "labels = []\n",
    "for f_score in f_scores:\n",
    "    x = np.linspace(0.01, 1)\n",
    "    y = f_score * x / (2 * x - f_score)\n",
    "    l, = plt.plot(x[y >= 0], y[y >= 0], color='gray', alpha=0.2)\n",
    "    plt.annotate('f1={0:0.1f}'.format(f_score), xy=(0.9, y[45] + 0.02))\n",
    "\n",
    "lines.append(l)\n",
    "labels.append('iso-f1 curves')\n",
    "l, = plt.plot(recall[\"micro\"], precision[\"micro\"], color='gold', lw=2)\n",
    "lines.append(l)\n",
    "labels.append('micro-average Precision-recall (area = {0:0.2f})'\n",
    "              ''.format(average_precision[\"micro\"]))\n",
    "\n",
    "for i, color in zip(range(4), colors):\n",
    "    l, = plt.plot(recall[i], precision[i], color=color, lw=2)\n",
    "    lines.append(l)\n",
    "    labels.append('Precision-recall for class {0} (area = {1:0.2f})'\n",
    "                  ''.format(i, average_precision[i]))\n",
    "\n",
    "fig = plt.gcf()\n",
    "fig.subplots_adjust(bottom=0.25)\n",
    "plt.xlim([0.0, 1.0])\n",
    "plt.ylim([0.0, 1.05])\n",
    "plt.xlabel('Recall')\n",
    "plt.ylabel('Precision')\n",
    "plt.title('Precision-Recall curve multi-class')\n",
    "plt.legend(lines, labels, loc=(0, -.38), prop=dict(size=14))\n",
    "\n",
    "\n",
    "plt.show()"
   ]
  },
  {
   "cell_type": "code",
   "execution_count": null,
   "metadata": {},
   "outputs": [],
   "source": []
  },
  {
   "cell_type": "code",
   "execution_count": null,
   "metadata": {},
   "outputs": [],
   "source": []
  },
  {
   "cell_type": "code",
   "execution_count": null,
   "metadata": {},
   "outputs": [],
   "source": []
  }
 ],
 "metadata": {
  "kernelspec": {
   "display_name": "Python 3",
   "language": "python",
   "name": "python3"
  },
  "language_info": {
   "codemirror_mode": {
    "name": "ipython",
    "version": 3
   },
   "file_extension": ".py",
   "mimetype": "text/x-python",
   "name": "python",
   "nbconvert_exporter": "python",
   "pygments_lexer": "ipython3",
   "version": "3.6.10"
  }
 },
 "nbformat": 4,
 "nbformat_minor": 4
}
